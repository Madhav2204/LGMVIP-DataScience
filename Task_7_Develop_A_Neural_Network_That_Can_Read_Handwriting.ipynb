{
  "cells": [
    {
      "cell_type": "markdown",
      "metadata": {
        "id": "view-in-github",
        "colab_type": "text"
      },
      "source": [
        "<a href=\"https://colab.research.google.com/github/Madhav2204/LGMVIP-DataScience/blob/main/Task_7_Develop_A_Neural_Network_That_Can_Read_Handwriting.ipynb\" target=\"_parent\"><img src=\"https://colab.research.google.com/assets/colab-badge.svg\" alt=\"Open In Colab\"/></a>"
      ]
    },
    {
      "cell_type": "markdown",
      "metadata": {
        "id": "T5EWDHDLRqqy"
      },
      "source": [
        "## **Author : Madhav Shrivastava**"
      ]
    },
    {
      "cell_type": "markdown",
      "metadata": {
        "id": "YGzBl4-TRvDl"
      },
      "source": [
        "### Task-7 : Develop A Neural Network That Can Read Handwriting"
      ]
    },
    {
      "cell_type": "markdown",
      "metadata": {
        "id": "m6c6ZrydR4j2"
      },
      "source": [
        "Problem Statement : Begin your neural network machine learning project with the MNIST Handwritten Digit Classification Challenge and using Tensorflow and CNN. It has a very user-friendly interface that’s ideal for beginners."
      ]
    },
    {
      "cell_type": "markdown",
      "metadata": {
        "id": "xCGsLd0aSAvF"
      },
      "source": [
        " Dataset : It can be seen on MNIST or can find https://en.wikipedia.org/wiki/MNIST_database"
      ]
    },
    {
      "cell_type": "code",
      "execution_count": null,
      "metadata": {
        "colab": {
          "base_uri": "https://localhost:8080/"
        },
        "id": "wncwrkYBRaLm",
        "outputId": "0b04a04b-38be-435c-a02d-d113681fcce3"
      },
      "outputs": [
        {
          "output_type": "stream",
          "name": "stdout",
          "text": [
            "Downloading data from https://storage.googleapis.com/tensorflow/tf-keras-datasets/mnist.npz\n",
            "11493376/11490434 [==============================] - 0s 0us/step\n",
            "11501568/11490434 [==============================] - 0s 0us/step\n",
            "(60000, 28, 28) (60000,)\n"
          ]
        }
      ],
      "source": [
        "import keras\n",
        "import tensorflow as tf \n",
        "from keras.datasets import mnist\n",
        "from keras.models import Sequential\n",
        "from keras.layers import Dense, Dropout, Flatten\n",
        "from keras.layers import Conv2D, MaxPooling2D\n",
        "from keras import backend as K\n",
        "from keras.utils import np_utils\n",
        "\n",
        "# the data, split between train and test sets\n",
        "(x_train, y_train), (x_test, y_test) = mnist.load_data()\n",
        "\n",
        "print(x_train.shape, y_train.shape)"
      ]
    },
    {
      "cell_type": "code",
      "execution_count": null,
      "metadata": {
        "colab": {
          "base_uri": "https://localhost:8080/"
        },
        "id": "-Ae8gdosRxpA",
        "outputId": "6a42f46a-b636-4b4d-dc90-234bd99eaabf"
      },
      "outputs": [
        {
          "output_type": "stream",
          "name": "stdout",
          "text": [
            "x_train shape: (60000, 28, 28, 1)\n",
            "60000 train samples\n",
            "10000 test samples\n"
          ]
        }
      ],
      "source": [
        "x_train = x_train.reshape(x_train.shape[0], 28, 28, 1)\n",
        "x_test = x_test.reshape(x_test.shape[0], 28, 28, 1)\n",
        "input_shape = (28, 28, 1)\n",
        "num_classes = []\n",
        "# convert class vectors to binary class matrices\n",
        "y_train = keras.utils.np_utils.to_categorical(y_train, num_classes)\n",
        "y_test =keras.utils.np_utils.to_categorical(y_test, num_classes)\n",
        "\n",
        "x_train = x_train.astype('float32')\n",
        "x_test = x_test.astype('float32')\n",
        "x_train /= 255\n",
        "x_test /= 255\n",
        "print('x_train shape:', x_train.shape)\n",
        "print(x_train.shape[0], 'train samples')\n",
        "print(x_test.shape[0], 'test samples')"
      ]
    },
    {
      "cell_type": "code",
      "execution_count": null,
      "metadata": {
        "id": "ucWaE8_8Rc5J"
      },
      "outputs": [],
      "source": [
        "batch_size = 128\n",
        "num_classes = 10\n",
        "epochs = 10\n",
        "\n",
        "model = Sequential()\n",
        "model.add(Conv2D(32, kernel_size=(3, 3),activation='relu',input_shape=input_shape))\n",
        "model.add(Conv2D(64, (3, 3), activation='relu'))\n",
        "model.add(MaxPooling2D(pool_size=(2, 2)))\n",
        "model.add(Dropout(0.25))\n",
        "model.add(Flatten())\n",
        "model.add(Dense(256, activation='relu'))\n",
        "model.add(Dropout(0.5))\n",
        "model.add(Dense(num_classes, activation='softmax'))\n",
        " \n",
        "model.compile(loss=keras.losses.categorical_crossentropy,optimizer=tf.keras.optimizers.Adadelta(),metrics=['accuracy'])"
      ]
    },
    {
      "cell_type": "code",
      "execution_count": null,
      "metadata": {
        "colab": {
          "base_uri": "https://localhost:8080/"
        },
        "id": "jRfnRbGLSYLC",
        "outputId": "c79c552b-b83a-48f8-9192-1fa536ec596f"
      },
      "outputs": [
        {
          "output_type": "stream",
          "name": "stdout",
          "text": [
            "Epoch 1/10\n",
            "469/469 [==============================] - 164s 346ms/step - loss: 2.2905 - accuracy: 0.1304 - val_loss: 2.2582 - val_accuracy: 0.2975\n",
            "Epoch 2/10\n",
            "469/469 [==============================] - 157s 334ms/step - loss: 2.2369 - accuracy: 0.2460 - val_loss: 2.1915 - val_accuracy: 0.4685\n",
            "Epoch 3/10\n",
            "469/469 [==============================] - 159s 338ms/step - loss: 2.1683 - accuracy: 0.3547 - val_loss: 2.1024 - val_accuracy: 0.5452\n",
            "Epoch 4/10\n",
            "469/469 [==============================] - 157s 335ms/step - loss: 2.0712 - accuracy: 0.4441 - val_loss: 1.9766 - val_accuracy: 0.6261\n",
            "Epoch 5/10\n",
            "469/469 [==============================] - 157s 336ms/step - loss: 1.9335 - accuracy: 0.5157 - val_loss: 1.7980 - val_accuracy: 0.6952\n",
            "Epoch 6/10\n",
            "469/469 [==============================] - 156s 333ms/step - loss: 1.7522 - accuracy: 0.5782 - val_loss: 1.5680 - val_accuracy: 0.7452\n",
            "Epoch 7/10\n",
            "469/469 [==============================] - 159s 339ms/step - loss: 1.5405 - accuracy: 0.6274 - val_loss: 1.3176 - val_accuracy: 0.7751\n",
            "Epoch 8/10\n",
            "469/469 [==============================] - 156s 333ms/step - loss: 1.3296 - accuracy: 0.6643 - val_loss: 1.0908 - val_accuracy: 0.7945\n",
            "Epoch 9/10\n",
            "469/469 [==============================] - 156s 333ms/step - loss: 1.1500 - accuracy: 0.6948 - val_loss: 0.9137 - val_accuracy: 0.8099\n",
            "Epoch 10/10\n",
            "469/469 [==============================] - 157s 334ms/step - loss: 1.0189 - accuracy: 0.7162 - val_loss: 0.7868 - val_accuracy: 0.8256\n",
            "The model has successfully trained\n",
            "Saving the model as mnist.h5\n"
          ]
        }
      ],
      "source": [
        "hist = model.fit(x_train, y_train,batch_size=batch_size,epochs=epochs,verbose=1,validation_data=(x_test, y_test))\n",
        "print(\"The model has successfully trained\")\n",
        "\n",
        "model.save('mnist.h5')\n",
        "print(\"Saving the model as mnist.h5\")"
      ]
    },
    {
      "cell_type": "code",
      "execution_count": null,
      "metadata": {
        "colab": {
          "base_uri": "https://localhost:8080/"
        },
        "id": "8x4QWenSSbMD",
        "outputId": "53a6c49e-9402-4304-d0cd-87c2a7b38f97"
      },
      "outputs": [
        {
          "output_type": "stream",
          "name": "stdout",
          "text": [
            "Test loss: 0.786790668964386\n",
            "Test accuracy: 0.8256000280380249\n"
          ]
        }
      ],
      "source": [
        "score = model.evaluate(x_test, y_test, verbose=0)\n",
        "print('Test loss:', score[0])\n",
        "print('Test accuracy:', score[1])"
      ]
    },
    {
      "cell_type": "code",
      "source": [
        "probability_model = tf.keras.Sequential([ model, tf.keras.layers.Softmax() ])\n",
        "probability_model(x_test[:5])"
      ],
      "metadata": {
        "colab": {
          "base_uri": "https://localhost:8080/"
        },
        "id": "hOUe_JA-1126",
        "outputId": "9c544505-1006-4f7c-aaed-7eb70706b1dc"
      },
      "execution_count": null,
      "outputs": [
        {
          "output_type": "execute_result",
          "data": {
            "text/plain": [
              "<tf.Tensor: shape=(5, 10), dtype=float32, numpy=\n",
              "array([[0.08822358, 0.08808213, 0.08825262, 0.0891999 , 0.0884674 ,\n",
              "        0.08923665, 0.08739945, 0.20061389, 0.08956647, 0.09095795],\n",
              "       [0.0942402 , 0.09189956, 0.14282967, 0.1120211 , 0.08982986,\n",
              "        0.09292462, 0.0985595 , 0.08983198, 0.09763248, 0.09023108],\n",
              "       [0.08892734, 0.18417647, 0.09177614, 0.09176525, 0.08932493,\n",
              "        0.08956945, 0.08998588, 0.09132231, 0.09230684, 0.0908454 ],\n",
              "       [0.18545502, 0.08797018, 0.08964016, 0.09065165, 0.08856445,\n",
              "        0.09151198, 0.09797811, 0.08969942, 0.08863086, 0.08989807],\n",
              "       [0.09254732, 0.08935727, 0.09367266, 0.09012286, 0.15640752,\n",
              "        0.09256492, 0.09527522, 0.09470451, 0.09470017, 0.10064751]],\n",
              "      dtype=float32)>"
            ]
          },
          "metadata": {},
          "execution_count": 14
        }
      ]
    },
    {
      "cell_type": "code",
      "execution_count": null,
      "metadata": {
        "colab": {
          "base_uri": "https://localhost:8080/",
          "height": 265
        },
        "id": "sS2qI7okS2CU",
        "outputId": "096d6acc-3575-4074-a135-22a5d10d746e"
      },
      "outputs": [
        {
          "output_type": "display_data",
          "data": {
            "text/plain": [
              "<Figure size 432x288 with 1 Axes>"
            ],
            "image/png": "[encoded data removed]"
          },
          "metadata": {
            "needs_background": "light"
          }
        }
      ],
      "source": [
        "import numpy as np\n",
        "import matplotlib.pyplot as plt\n",
        "img = x_train[3]\n",
        "plt.imshow(np.squeeze(img) ,cmap='gray')\n",
        "plt.show()"
      ]
    },
    {
      "cell_type": "code",
      "execution_count": null,
      "metadata": {
        "id": "9d5fcTRqQ0IO"
      },
      "outputs": [],
      "source": [
        "from numpy import unique, argmax\n"
      ]
    },
    {
      "cell_type": "code",
      "source": [
        "plt.imshow(np.squeeze(x_test[0]),cmap=\"Reds\")"
      ],
      "metadata": {
        "colab": {
          "base_uri": "https://localhost:8080/",
          "height": 282
        },
        "id": "qZ8wu8Cl4Q2c",
        "outputId": "0a82808b-31e0-4216-f933-5bb6e45ab22b"
      },
      "execution_count": null,
      "outputs": [
        {
          "output_type": "execute_result",
          "data": {
            "text/plain": [
              "<matplotlib.image.AxesImage at 0x7fb54d543f10>"
            ]
          },
          "metadata": {},
          "execution_count": 21
        },
        {
          "output_type": "display_data",
          "data": {
            "text/plain": [
              "<Figure size 432x288 with 1 Axes>"
            ],
            "image/png": "[encoded data removed]"
          },
          "metadata": {
            "needs_background": "light"
          }
        }
      ]
    },
    {
      "cell_type": "code",
      "source": [
        "prediction=model.predict(x_test)\n",
        "print(np.argmax(prediction[0]))"
      ],
      "metadata": {
        "colab": {
          "base_uri": "https://localhost:8080/"
        },
        "id": "12mre5aY6EAW",
        "outputId": "c448f2a8-32b7-496b-c7df-3b713d5e5ae7"
      },
      "execution_count": null,
      "outputs": [
        {
          "output_type": "stream",
          "name": "stdout",
          "text": [
            "7\n"
          ]
        }
      ]
    },
    {
      "cell_type": "code",
      "source": [
        "plt.imshow(np.squeeze(x_test[1]),cmap=\"Reds\")"
      ],
      "metadata": {
        "colab": {
          "base_uri": "https://localhost:8080/",
          "height": 282
        },
        "id": "BATlPyDk6H0C",
        "outputId": "cd6b2412-1d04-4a06-87ff-c27f4b7a901b"
      },
      "execution_count": null,
      "outputs": [
        {
          "output_type": "execute_result",
          "data": {
            "text/plain": [
              "<matplotlib.image.AxesImage at 0x7fb4c225fad0>"
            ]
          },
          "metadata": {},
          "execution_count": 25
        },
        {
          "output_type": "display_data",
          "data": {
            "text/plain": [
              "<Figure size 432x288 with 1 Axes>"
            ],
            "image/png": "[encoded data removed]"
          },
          "metadata": {
            "needs_background": "light"
          }
        }
      ]
    },
    {
      "cell_type": "code",
      "source": [
        "prediction=model.predict(x_test)\n",
        "print(np.argmax(prediction[1]))"
      ],
      "metadata": {
        "colab": {
          "base_uri": "https://localhost:8080/"
        },
        "id": "So06CuEM6np5",
        "outputId": "24716cf8-29a1-4e6d-a218-cd741c8097f0"
      },
      "execution_count": null,
      "outputs": [
        {
          "output_type": "stream",
          "name": "stdout",
          "text": [
            "2\n"
          ]
        }
      ]
    }
  ],
  "metadata": {
    "colab": {
      "name": "Task-7_Develop A Neural Network That Can Read Handwriting",
      "provenance": [],
      "collapsed_sections": [],
      "authorship_tag": "ABX9TyP7FH8Rg9lasIVKU3usBIo2",
      "include_colab_link": true
    },
    "kernelspec": {
      "display_name": "Python 3",
      "name": "python3"
    },
    "language_info": {
      "name": "python"
    }
  },
  "nbformat": 4,
  "nbformat_minor": 0
}