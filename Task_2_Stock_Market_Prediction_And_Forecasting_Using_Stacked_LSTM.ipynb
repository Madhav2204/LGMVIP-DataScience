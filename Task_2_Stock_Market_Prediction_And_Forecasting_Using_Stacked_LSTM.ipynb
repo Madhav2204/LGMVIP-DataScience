{
  "cells": [
    {
      "cell_type": "markdown",
      "metadata": {
        "id": "view-in-github",
        "colab_type": "text"
      },
      "source": [
        "<a href=\"https://colab.research.google.com/github/Madhav2204/LGMVIP-DataScience/blob/main/Task_2_Stock_Market_Prediction_And_Forecasting_Using_Stacked_LSTM.ipynb\" target=\"_parent\"><img src=\"https://colab.research.google.com/assets/colab-badge.svg\" alt=\"Open In Colab\"/></a>"
      ]
    },
    {
      "cell_type": "markdown",
      "id": "71cb61e7",
      "metadata": {
        "id": "71cb61e7"
      },
      "source": [
        "# Author : Madhav Shrivastava"
      ]
    },
    {
      "cell_type": "markdown",
      "id": "eca91d48",
      "metadata": {
        "id": "eca91d48"
      },
      "source": [
        "### TASK 2:Stock Market Prediction And Forecasting Using Stacked LSTM"
      ]
    },
    {
      "cell_type": "markdown",
      "id": "09135a9d",
      "metadata": {
        "id": "09135a9d"
      },
      "source": [
        "Datasetlinks: : https://raw.githubusercontent.com/mwitiderrick/stockprice/master/NSE-TATAGLOBAL.csv"
      ]
    },
    {
      "cell_type": "markdown",
      "id": "51d2983e",
      "metadata": {
        "id": "51d2983e"
      },
      "source": [
        "#### Lets First import required liberies"
      ]
    },
    {
      "cell_type": "code",
      "execution_count": null,
      "id": "4f2bee49",
      "metadata": {
        "id": "4f2bee49"
      },
      "outputs": [],
      "source": [
        "import pandas as pd\n",
        "import numpy as np\n",
        "import scipy.stats as st\n",
        "import os\n",
        "import matplotlib.pyplot as plt\n",
        "import seaborn as sns\n",
        "import datetime\n",
        "import math\n",
        "from sklearn.metrics import mean_squared_error\n",
        "from sklearn.preprocessing import MinMaxScaler"
      ]
    },
    {
      "cell_type": "code",
      "execution_count": null,
      "id": "54ec9aaa",
      "metadata": {
        "id": "54ec9aaa",
        "outputId": "caf06693-2cd5-4b83-acf9-4ca70cd030e0"
      },
      "outputs": [
        {
          "name": "stdout",
          "output_type": "stream",
          "text": [
            "Requirement already satisfied: keras in c:\\users\\madhavshrivastava\\anaconda3\\lib\\site-packages (2.4.3)\n",
            "Requirement already satisfied: numpy>=1.9.1 in c:\\users\\madhavshrivastava\\anaconda3\\lib\\site-packages (from keras) (1.18.5)\n",
            "Requirement already satisfied: h5py in c:\\users\\madhavshrivastava\\anaconda3\\lib\\site-packages (from keras) (2.10.0)\n",
            "Requirement already satisfied: pyyaml in c:\\users\\madhavshrivastava\\anaconda3\\lib\\site-packages (from keras) (5.4.1)\n",
            "Requirement already satisfied: scipy>=0.14 in c:\\users\\madhavshrivastava\\anaconda3\\lib\\site-packages (from keras) (1.6.2)\n",
            "Requirement already satisfied: six in c:\\users\\madhavshrivastava\\appdata\\roaming\\python\\python38\\site-packages (from h5py->keras) (1.15.0)\n",
            "Note: you may need to restart the kernel to use updated packages.\n"
          ]
        }
      ],
      "source": [
        "pip install keras"
      ]
    },
    {
      "cell_type": "code",
      "execution_count": null,
      "id": "b0d778bf",
      "metadata": {
        "id": "b0d778bf",
        "outputId": "4a8964ed-955f-4e9d-fd3c-45e7c8185a9b"
      },
      "outputs": [
        {
          "name": "stdout",
          "output_type": "stream",
          "text": [
            "Requirement already satisfied: tensorflow in c:\\users\\madhavshrivastava\\anaconda3\\lib\\site-packages (2.3.0)Note: you may need to restart the kernel to use updated packages.\n"
          ]
        },
        {
          "name": "stderr",
          "output_type": "stream",
          "text": [
            "ERROR: Could not install packages due to an OSError: [WinError 5] Access is denied: 'C:\\\\Users\\\\Madhavshrivastava\\\\anaconda3\\\\Lib\\\\site-packages\\\\~cipy\\\\cluster\\\\_hierarchy.cp38-win_amd64.pyd'\n",
            "Consider using the `--user` option or check the permissions.\n",
            "\n"
          ]
        },
        {
          "name": "stdout",
          "output_type": "stream",
          "text": [
            "\n",
            "Collecting gast==0.3.3\n",
            "  Using cached gast-0.3.3-py2.py3-none-any.whl (9.7 kB)\n",
            "Requirement already satisfied: grpcio>=1.8.6 in c:\\users\\madhavshrivastava\\anaconda3\\lib\\site-packages (from tensorflow) (1.36.1)\n",
            "Requirement already satisfied: absl-py>=0.7.0 in c:\\users\\madhavshrivastava\\anaconda3\\lib\\site-packages (from tensorflow) (0.13.0)\n",
            "Requirement already satisfied: astunparse==1.6.3 in c:\\users\\madhavshrivastava\\anaconda3\\lib\\site-packages (from tensorflow) (1.6.3)\n",
            "Collecting scipy==1.4.1\n",
            "  Using cached scipy-1.4.1-cp38-cp38-win_amd64.whl (31.0 MB)\n",
            "Requirement already satisfied: google-pasta>=0.1.8 in c:\\users\\madhavshrivastava\\anaconda3\\lib\\site-packages (from tensorflow) (0.2.0)\n",
            "Requirement already satisfied: protobuf>=3.9.2 in c:\\users\\madhavshrivastava\\anaconda3\\lib\\site-packages (from tensorflow) (3.17.2)\n",
            "Requirement already satisfied: wrapt>=1.11.1 in c:\\users\\madhavshrivastava\\appdata\\roaming\\python\\python38\\site-packages (from tensorflow) (1.12.1)\n",
            "Requirement already satisfied: h5py<2.11.0,>=2.10.0 in c:\\users\\madhavshrivastava\\anaconda3\\lib\\site-packages (from tensorflow) (2.10.0)\n",
            "Requirement already satisfied: tensorboard<3,>=2.3.0 in c:\\users\\madhavshrivastava\\anaconda3\\lib\\site-packages (from tensorflow) (2.4.0)\n",
            "Requirement already satisfied: termcolor>=1.1.0 in c:\\users\\madhavshrivastava\\anaconda3\\lib\\site-packages (from tensorflow) (1.1.0)\n",
            "Requirement already satisfied: numpy<1.19.0,>=1.16.0 in c:\\users\\madhavshrivastava\\anaconda3\\lib\\site-packages (from tensorflow) (1.18.5)\n",
            "Requirement already satisfied: six>=1.12.0 in c:\\users\\madhavshrivastava\\appdata\\roaming\\python\\python38\\site-packages (from tensorflow) (1.15.0)\n",
            "Requirement already satisfied: keras-preprocessing<1.2,>=1.1.1 in c:\\users\\madhavshrivastava\\anaconda3\\lib\\site-packages (from tensorflow) (1.1.2)\n",
            "Collecting tensorflow-estimator<2.4.0,>=2.3.0\n",
            "  Using cached tensorflow_estimator-2.3.0-py2.py3-none-any.whl (459 kB)\n",
            "Requirement already satisfied: wheel>=0.26 in c:\\users\\madhavshrivastava\\anaconda3\\lib\\site-packages (from tensorflow) (0.36.2)\n",
            "Requirement already satisfied: opt-einsum>=2.3.2 in c:\\users\\madhavshrivastava\\anaconda3\\lib\\site-packages (from tensorflow) (3.3.0)\n",
            "Requirement already satisfied: google-auth-oauthlib<0.5,>=0.4.1 in c:\\users\\madhavshrivastava\\anaconda3\\lib\\site-packages (from tensorboard<3,>=2.3.0->tensorflow) (0.4.4)\n",
            "Requirement already satisfied: google-auth<2,>=1.6.3 in c:\\users\\madhavshrivastava\\anaconda3\\lib\\site-packages (from tensorboard<3,>=2.3.0->tensorflow) (1.21.3)\n",
            "Requirement already satisfied: setuptools>=41.0.0 in c:\\users\\madhavshrivastava\\anaconda3\\lib\\site-packages (from tensorboard<3,>=2.3.0->tensorflow) (52.0.0.post20210125)\n",
            "Requirement already satisfied: werkzeug>=0.11.15 in c:\\users\\madhavshrivastava\\anaconda3\\lib\\site-packages (from tensorboard<3,>=2.3.0->tensorflow) (1.0.1)\n",
            "Requirement already satisfied: requests<3,>=2.21.0 in c:\\users\\madhavshrivastava\\anaconda3\\lib\\site-packages (from tensorboard<3,>=2.3.0->tensorflow) (2.25.1)\n",
            "Requirement already satisfied: markdown>=2.6.8 in c:\\users\\madhavshrivastava\\anaconda3\\lib\\site-packages (from tensorboard<3,>=2.3.0->tensorflow) (3.3.4)\n",
            "Requirement already satisfied: tensorboard-plugin-wit>=1.6.0 in c:\\users\\madhavshrivastava\\anaconda3\\lib\\site-packages (from tensorboard<3,>=2.3.0->tensorflow) (1.6.0)\n",
            "Requirement already satisfied: pyasn1-modules>=0.2.1 in c:\\users\\madhavshrivastava\\anaconda3\\lib\\site-packages (from google-auth<2,>=1.6.3->tensorboard<3,>=2.3.0->tensorflow) (0.2.8)\n",
            "Requirement already satisfied: rsa<5,>=3.1.4 in c:\\users\\madhavshrivastava\\anaconda3\\lib\\site-packages (from google-auth<2,>=1.6.3->tensorboard<3,>=2.3.0->tensorflow) (4.7.2)\n",
            "Requirement already satisfied: cachetools<5.0,>=2.0.0 in c:\\users\\madhavshrivastava\\anaconda3\\lib\\site-packages (from google-auth<2,>=1.6.3->tensorboard<3,>=2.3.0->tensorflow) (4.2.2)\n",
            "Requirement already satisfied: requests-oauthlib>=0.7.0 in c:\\users\\madhavshrivastava\\anaconda3\\lib\\site-packages (from google-auth-oauthlib<0.5,>=0.4.1->tensorboard<3,>=2.3.0->tensorflow) (1.3.0)\n",
            "Requirement already satisfied: pyasn1<0.5.0,>=0.4.6 in c:\\users\\madhavshrivastava\\anaconda3\\lib\\site-packages (from pyasn1-modules>=0.2.1->google-auth<2,>=1.6.3->tensorboard<3,>=2.3.0->tensorflow) (0.4.8)\n",
            "Requirement already satisfied: idna<3,>=2.5 in c:\\users\\madhavshrivastava\\anaconda3\\lib\\site-packages (from requests<3,>=2.21.0->tensorboard<3,>=2.3.0->tensorflow) (2.10)\n",
            "Requirement already satisfied: urllib3<1.27,>=1.21.1 in c:\\users\\madhavshrivastava\\anaconda3\\lib\\site-packages (from requests<3,>=2.21.0->tensorboard<3,>=2.3.0->tensorflow) (1.26.6)\n",
            "Requirement already satisfied: certifi>=2017.4.17 in c:\\users\\madhavshrivastava\\anaconda3\\lib\\site-packages (from requests<3,>=2.21.0->tensorboard<3,>=2.3.0->tensorflow) (2020.6.20)\n",
            "Requirement already satisfied: chardet<5,>=3.0.2 in c:\\users\\madhavshrivastava\\anaconda3\\lib\\site-packages (from requests<3,>=2.21.0->tensorboard<3,>=2.3.0->tensorflow) (4.0.0)\n",
            "Requirement already satisfied: oauthlib>=3.0.0 in c:\\users\\madhavshrivastava\\anaconda3\\lib\\site-packages (from requests-oauthlib>=0.7.0->google-auth-oauthlib<0.5,>=0.4.1->tensorboard<3,>=2.3.0->tensorflow) (3.1.1)\n",
            "Installing collected packages: tensorflow-estimator, scipy, gast\n",
            "  Attempting uninstall: tensorflow-estimator\n",
            "    Found existing installation: tensorflow-estimator 2.5.0\n",
            "    Uninstalling tensorflow-estimator-2.5.0:\n",
            "      Successfully uninstalled tensorflow-estimator-2.5.0\n",
            "  Attempting uninstall: scipy\n",
            "    Found existing installation: scipy 1.6.2\n",
            "    Uninstalling scipy-1.6.2:\n",
            "      Successfully uninstalled scipy-1.6.2\n"
          ]
        }
      ],
      "source": [
        "pip install tensorflow"
      ]
    },
    {
      "cell_type": "code",
      "execution_count": null,
      "id": "95568b10",
      "metadata": {
        "id": "95568b10"
      },
      "outputs": [],
      "source": [
        "from keras.models import Sequential\n",
        "from keras.layers import Dense\n",
        "from keras.layers import LSTM\n",
        "from keras.layers import Dropout"
      ]
    },
    {
      "cell_type": "code",
      "execution_count": null,
      "id": "97182e3b",
      "metadata": {
        "id": "97182e3b",
        "outputId": "976fbe96-702a-4b8a-96d7-173242ee7647"
      },
      "outputs": [
        {
          "data": {
            "text/html": [
              "<div>\n",
              "<style scoped>\n",
              "    .dataframe tbody tr th:only-of-type {\n",
              "        vertical-align: middle;\n",
              "    }\n",
              "\n",
              "    .dataframe tbody tr th {\n",
              "        vertical-align: top;\n",
              "    }\n",
              "\n",
              "    .dataframe thead th {\n",
              "        text-align: right;\n",
              "    }\n",
              "</style>\n",
              "<table border=\"1\" class=\"dataframe\">\n",
              "  <thead>\n",
              "    <tr style=\"text-align: right;\">\n",
              "      <th></th>\n",
              "      <th>Date</th>\n",
              "      <th>Open</th>\n",
              "      <th>High</th>\n",
              "      <th>Low</th>\n",
              "      <th>Last</th>\n",
              "      <th>Close</th>\n",
              "      <th>Total Trade Quantity</th>\n",
              "      <th>Turnover (Lacs)</th>\n",
              "    </tr>\n",
              "  </thead>\n",
              "  <tbody>\n",
              "    <tr>\n",
              "      <th>0</th>\n",
              "      <td>2018-09-28</td>\n",
              "      <td>234.05</td>\n",
              "      <td>235.95</td>\n",
              "      <td>230.20</td>\n",
              "      <td>233.50</td>\n",
              "      <td>233.75</td>\n",
              "      <td>3069914</td>\n",
              "      <td>7162.35</td>\n",
              "    </tr>\n",
              "    <tr>\n",
              "      <th>1</th>\n",
              "      <td>2018-09-27</td>\n",
              "      <td>234.55</td>\n",
              "      <td>236.80</td>\n",
              "      <td>231.10</td>\n",
              "      <td>233.80</td>\n",
              "      <td>233.25</td>\n",
              "      <td>5082859</td>\n",
              "      <td>11859.95</td>\n",
              "    </tr>\n",
              "    <tr>\n",
              "      <th>2</th>\n",
              "      <td>2018-09-26</td>\n",
              "      <td>240.00</td>\n",
              "      <td>240.00</td>\n",
              "      <td>232.50</td>\n",
              "      <td>235.00</td>\n",
              "      <td>234.25</td>\n",
              "      <td>2240909</td>\n",
              "      <td>5248.60</td>\n",
              "    </tr>\n",
              "    <tr>\n",
              "      <th>3</th>\n",
              "      <td>2018-09-25</td>\n",
              "      <td>233.30</td>\n",
              "      <td>236.75</td>\n",
              "      <td>232.00</td>\n",
              "      <td>236.25</td>\n",
              "      <td>236.10</td>\n",
              "      <td>2349368</td>\n",
              "      <td>5503.90</td>\n",
              "    </tr>\n",
              "    <tr>\n",
              "      <th>4</th>\n",
              "      <td>2018-09-24</td>\n",
              "      <td>233.55</td>\n",
              "      <td>239.20</td>\n",
              "      <td>230.75</td>\n",
              "      <td>234.00</td>\n",
              "      <td>233.30</td>\n",
              "      <td>3423509</td>\n",
              "      <td>7999.55</td>\n",
              "    </tr>\n",
              "    <tr>\n",
              "      <th>...</th>\n",
              "      <td>...</td>\n",
              "      <td>...</td>\n",
              "      <td>...</td>\n",
              "      <td>...</td>\n",
              "      <td>...</td>\n",
              "      <td>...</td>\n",
              "      <td>...</td>\n",
              "      <td>...</td>\n",
              "    </tr>\n",
              "    <tr>\n",
              "      <th>2030</th>\n",
              "      <td>2010-07-27</td>\n",
              "      <td>117.60</td>\n",
              "      <td>119.50</td>\n",
              "      <td>112.00</td>\n",
              "      <td>118.80</td>\n",
              "      <td>118.65</td>\n",
              "      <td>586100</td>\n",
              "      <td>694.98</td>\n",
              "    </tr>\n",
              "    <tr>\n",
              "      <th>2031</th>\n",
              "      <td>2010-07-26</td>\n",
              "      <td>120.10</td>\n",
              "      <td>121.00</td>\n",
              "      <td>117.10</td>\n",
              "      <td>117.10</td>\n",
              "      <td>117.60</td>\n",
              "      <td>658440</td>\n",
              "      <td>780.01</td>\n",
              "    </tr>\n",
              "    <tr>\n",
              "      <th>2032</th>\n",
              "      <td>2010-07-23</td>\n",
              "      <td>121.80</td>\n",
              "      <td>121.95</td>\n",
              "      <td>120.25</td>\n",
              "      <td>120.35</td>\n",
              "      <td>120.65</td>\n",
              "      <td>281312</td>\n",
              "      <td>340.31</td>\n",
              "    </tr>\n",
              "    <tr>\n",
              "      <th>2033</th>\n",
              "      <td>2010-07-22</td>\n",
              "      <td>120.30</td>\n",
              "      <td>122.00</td>\n",
              "      <td>120.25</td>\n",
              "      <td>120.75</td>\n",
              "      <td>120.90</td>\n",
              "      <td>293312</td>\n",
              "      <td>355.17</td>\n",
              "    </tr>\n",
              "    <tr>\n",
              "      <th>2034</th>\n",
              "      <td>2010-07-21</td>\n",
              "      <td>122.10</td>\n",
              "      <td>123.00</td>\n",
              "      <td>121.05</td>\n",
              "      <td>121.10</td>\n",
              "      <td>121.55</td>\n",
              "      <td>658666</td>\n",
              "      <td>803.56</td>\n",
              "    </tr>\n",
              "  </tbody>\n",
              "</table>\n",
              "<p>2035 rows × 8 columns</p>\n",
              "</div>"
            ],
            "text/plain": [
              "            Date    Open    High     Low    Last   Close  \\\n",
              "0     2018-09-28  234.05  235.95  230.20  233.50  233.75   \n",
              "1     2018-09-27  234.55  236.80  231.10  233.80  233.25   \n",
              "2     2018-09-26  240.00  240.00  232.50  235.00  234.25   \n",
              "3     2018-09-25  233.30  236.75  232.00  236.25  236.10   \n",
              "4     2018-09-24  233.55  239.20  230.75  234.00  233.30   \n",
              "...          ...     ...     ...     ...     ...     ...   \n",
              "2030  2010-07-27  117.60  119.50  112.00  118.80  118.65   \n",
              "2031  2010-07-26  120.10  121.00  117.10  117.10  117.60   \n",
              "2032  2010-07-23  121.80  121.95  120.25  120.35  120.65   \n",
              "2033  2010-07-22  120.30  122.00  120.25  120.75  120.90   \n",
              "2034  2010-07-21  122.10  123.00  121.05  121.10  121.55   \n",
              "\n",
              "      Total Trade Quantity  Turnover (Lacs)  \n",
              "0                  3069914          7162.35  \n",
              "1                  5082859         11859.95  \n",
              "2                  2240909          5248.60  \n",
              "3                  2349368          5503.90  \n",
              "4                  3423509          7999.55  \n",
              "...                    ...              ...  \n",
              "2030                586100           694.98  \n",
              "2031                658440           780.01  \n",
              "2032                281312           340.31  \n",
              "2033                293312           355.17  \n",
              "2034                658666           803.56  \n",
              "\n",
              "[2035 rows x 8 columns]"
            ]
          },
          "execution_count": 5,
          "metadata": {},
          "output_type": "execute_result"
        }
      ],
      "source": [
        "#----------------------COLLECT STOCK DATA ----------------------------\n",
        "df=pd.read_csv('https://raw.githubusercontent.com/mwitiderrick/stockprice/master/NSE-TATAGLOBAL.csv')\n",
        "df"
      ]
    },
    {
      "cell_type": "code",
      "execution_count": null,
      "id": "eeca75dd",
      "metadata": {
        "id": "eeca75dd",
        "outputId": "52c5b507-c2ab-4125-89d7-1958c3a3895f"
      },
      "outputs": [
        {
          "name": "stdout",
          "output_type": "stream",
          "text": [
            "<class 'pandas.core.frame.DataFrame'>\n",
            "RangeIndex: 2035 entries, 0 to 2034\n",
            "Data columns (total 8 columns):\n",
            " #   Column                Non-Null Count  Dtype  \n",
            "---  ------                --------------  -----  \n",
            " 0   Date                  2035 non-null   object \n",
            " 1   Open                  2035 non-null   float64\n",
            " 2   High                  2035 non-null   float64\n",
            " 3   Low                   2035 non-null   float64\n",
            " 4   Last                  2035 non-null   float64\n",
            " 5   Close                 2035 non-null   float64\n",
            " 6   Total Trade Quantity  2035 non-null   int64  \n",
            " 7   Turnover (Lacs)       2035 non-null   float64\n",
            "dtypes: float64(6), int64(1), object(1)\n",
            "memory usage: 127.3+ KB\n"
          ]
        }
      ],
      "source": [
        "df.info()"
      ]
    },
    {
      "cell_type": "code",
      "execution_count": null,
      "id": "b85ab072",
      "metadata": {
        "id": "b85ab072",
        "outputId": "45c9603f-c405-4b99-acac-ca3116b9d8d8"
      },
      "outputs": [
        {
          "data": {
            "text/plain": [
              "0       233.75\n",
              "1       233.25\n",
              "2       234.25\n",
              "3       236.10\n",
              "4       233.30\n",
              "         ...  \n",
              "2030    118.65\n",
              "2031    117.60\n",
              "2032    120.65\n",
              "2033    120.90\n",
              "2034    121.55\n",
              "Name: Close, Length: 2035, dtype: float64"
            ]
          },
          "execution_count": 7,
          "metadata": {},
          "output_type": "execute_result"
        }
      ],
      "source": [
        "df1=df.reset_index()['Close']\n",
        "df1"
      ]
    },
    {
      "cell_type": "code",
      "execution_count": null,
      "id": "42fc862f",
      "metadata": {
        "id": "42fc862f",
        "outputId": "0d8811c0-e852-40cf-a0c9-cf13305427d7"
      },
      "outputs": [
        {
          "data": {
            "text/plain": [
              "(2035,)"
            ]
          },
          "execution_count": 8,
          "metadata": {},
          "output_type": "execute_result"
        }
      ],
      "source": [
        "df1.shape"
      ]
    },
    {
      "cell_type": "code",
      "execution_count": null,
      "id": "8fcea805",
      "metadata": {
        "id": "8fcea805",
        "outputId": "2b86883d-eb01-406b-b7f9-a8c94103fbaa"
      },
      "outputs": [
        {
          "data": {
            "text/plain": [
              "Text(0.5, 1.0, 'CLOSING GRAPH OF STOCK-MARKET')"
            ]
          },
          "execution_count": 9,
          "metadata": {},
          "output_type": "execute_result"
        },
        {
          "data": {
            "image/png": "[encoded data removed]",
            "text/plain": [
              "<Figure size 432x288 with 1 Axes>"
            ]
          },
          "metadata": {
            "needs_background": "light"
          },
          "output_type": "display_data"
        }
      ],
      "source": [
        "plt.plot(df1)\n",
        "plt.rcParams['figure.figsize'] = [15,7]\n",
        "plt.title('CLOSING GRAPH OF STOCK-MARKET')"
      ]
    },
    {
      "cell_type": "code",
      "execution_count": null,
      "id": "934831e9",
      "metadata": {
        "id": "934831e9",
        "outputId": "a9203b83-4a8b-45e7-a003-424bc7fbe2df"
      },
      "outputs": [
        {
          "data": {
            "text/plain": [
              "array([[0.62418301],\n",
              "       [0.62214052],\n",
              "       [0.62622549],\n",
              "       ...,\n",
              "       [0.1621732 ],\n",
              "       [0.16319444],\n",
              "       [0.16584967]])"
            ]
          },
          "execution_count": 10,
          "metadata": {},
          "output_type": "execute_result"
        }
      ],
      "source": [
        "#----------because lstm is very sensitive to data we have to apply minmaxscaler------------\n",
        "\n",
        "scaler = MinMaxScaler(feature_range=(0,1))   # to scale down everything b/w 0 n 1\n",
        "df1 = scaler.fit_transform(np.array(df1).reshape(-1,1))\n",
        "df1"
      ]
    },
    {
      "cell_type": "code",
      "execution_count": null,
      "id": "b9f61cfa",
      "metadata": {
        "id": "b9f61cfa"
      },
      "outputs": [],
      "source": [
        "#------------------PREPROCESSING : TEST-TRAIN SPLIT ---------------------\n",
        "\n",
        "train_size = int(len(df1)*0.7)      # taking 70 % data as training data \n",
        "test_size = len(df1)-train_size     # rest 30 % as testing data\n",
        "\n",
        "train_data = df1[0:train_size,:]\n",
        "test_data = df1[train_size:len(df1),:]"
      ]
    },
    {
      "cell_type": "code",
      "execution_count": null,
      "id": "f4c8875e",
      "metadata": {
        "id": "f4c8875e",
        "outputId": "2031e084-fe91-408f-fe82-83c3be4eb88c"
      },
      "outputs": [
        {
          "data": {
            "text/plain": [
              "(1424, 1)"
            ]
          },
          "execution_count": 12,
          "metadata": {},
          "output_type": "execute_result"
        }
      ],
      "source": [
        "train_data.shape"
      ]
    },
    {
      "cell_type": "code",
      "execution_count": null,
      "id": "aa996b3e",
      "metadata": {
        "id": "aa996b3e",
        "outputId": "f8966476-d941-4ef7-ef2e-96cb049cc293"
      },
      "outputs": [
        {
          "data": {
            "text/plain": [
              "(611, 1)"
            ]
          },
          "execution_count": 13,
          "metadata": {},
          "output_type": "execute_result"
        }
      ],
      "source": [
        "test_data.shape"
      ]
    },
    {
      "cell_type": "code",
      "execution_count": null,
      "id": "d6608ebc",
      "metadata": {
        "id": "d6608ebc"
      },
      "outputs": [],
      "source": [
        "# making timesteps to predict the future data ... based on prev days data. \n",
        "\n",
        "def select_data(dataset, time_step=1):\n",
        "    dataX, dataY = [], []\n",
        "    for i in range(len(dataset)-time_step-1):\n",
        "        dataX.append(dataset[i:(i+time_step), 0])\n",
        "        dataY.append(dataset[i + time_step, 0])\n",
        "    return np.array(dataX), np.array(dataY)"
      ]
    },
    {
      "cell_type": "code",
      "execution_count": null,
      "id": "f7935080",
      "metadata": {
        "id": "f7935080"
      },
      "outputs": [],
      "source": [
        "timestep = 200\n",
        "\n",
        "X_train, y_train = select_data(train_data, timestep)\n",
        "X_test, y_test = select_data(test_data, timestep)"
      ]
    },
    {
      "cell_type": "code",
      "execution_count": null,
      "id": "d0e9108a",
      "metadata": {
        "id": "d0e9108a",
        "outputId": "c600f60c-fb74-44e9-89a6-07b97477856c"
      },
      "outputs": [
        {
          "data": {
            "text/plain": [
              "(array([[0.62418301, 0.62214052, 0.62622549, ..., 0.84497549, 0.8880719 ,\n",
              "         0.84763072],\n",
              "        [0.62214052, 0.62622549, 0.63378268, ..., 0.8880719 , 0.84763072,\n",
              "         0.82945261],\n",
              "        [0.62622549, 0.63378268, 0.62234477, ..., 0.84763072, 0.82945261,\n",
              "         0.79248366],\n",
              "        ...,\n",
              "        [0.33047386, 0.32128268, 0.34007353, ..., 0.33415033, 0.33986928,\n",
              "         0.34681373],\n",
              "        [0.32128268, 0.34007353, 0.3310866 , ..., 0.33986928, 0.34681373,\n",
              "         0.3500817 ],\n",
              "        [0.34007353, 0.3310866 , 0.31495098, ..., 0.34681373, 0.3500817 ,\n",
              "         0.32618464]]),\n",
              " array([0.82945261, 0.79248366, 0.8129085 , ..., 0.3500817 , 0.32618464,\n",
              "        0.32271242]))"
            ]
          },
          "execution_count": 16,
          "metadata": {},
          "output_type": "execute_result"
        }
      ],
      "source": [
        "X_train, y_train"
      ]
    },
    {
      "cell_type": "code",
      "execution_count": null,
      "id": "4f9cb9a6",
      "metadata": {
        "id": "4f9cb9a6",
        "outputId": "7c176acc-4f37-47ca-a5c6-39f3d04632ba"
      },
      "outputs": [
        {
          "data": {
            "text/plain": [
              "(array([[0.32148693, 0.32352941, 0.3255719 , ..., 0.16115196, 0.15175654,\n",
              "         0.14644608],\n",
              "        [0.32352941, 0.3255719 , 0.32638889, ..., 0.15175654, 0.14644608,\n",
              "         0.15216503],\n",
              "        [0.3255719 , 0.32638889, 0.33496732, ..., 0.14644608, 0.15216503,\n",
              "         0.1435866 ],\n",
              "        ...,\n",
              "        [0.06944444, 0.08088235, 0.07700163, ..., 0.14562908, 0.15236928,\n",
              "         0.15400327],\n",
              "        [0.08088235, 0.07700163, 0.0684232 , ..., 0.15236928, 0.15400327,\n",
              "         0.14971405],\n",
              "        [0.07700163, 0.0684232 , 0.06781046, ..., 0.15400327, 0.14971405,\n",
              "         0.1621732 ]]),\n",
              " array([0.15216503, 0.1435866 , 0.13419118, 0.1431781 , 0.16115196,\n",
              "        0.16176471, 0.17320261, 0.18218954, 0.16237745, 0.13112745,\n",
              "        0.15931373, 0.15951797, 0.14808007, 0.16278595, 0.15625   ,\n",
              "        0.16319444, 0.16360294, 0.16278595, 0.16544118, 0.15522876,\n",
              "        0.17197712, 0.1503268 , 0.13255719, 0.14338235, 0.15849673,\n",
              "        0.1186683 , 0.11519608, 0.10947712, 0.0692402 , 0.06597222,\n",
              "        0.05841503, 0.05044935, 0.04534314, 0.04779412, 0.05290033,\n",
              "        0.04922386, 0.06638072, 0.07169118, 0.05392157, 0.04881536,\n",
              "        0.04881536, 0.05310458, 0.04963235, 0.05065359, 0.05126634,\n",
              "        0.04963235, 0.05902778, 0.05555556, 0.04084967, 0.03737745,\n",
              "        0.03737745, 0.02655229, 0.02879902, 0.0316585 , 0.0316585 ,\n",
              "        0.03635621, 0.02205882, 0.01674837, 0.01450163, 0.02226307,\n",
              "        0.03615196, 0.02675654, 0.03206699, 0.02696078, 0.03574346,\n",
              "        0.03594771, 0.04044118, 0.03921569, 0.04411765, 0.02982026,\n",
              "        0.0122549 , 0.01286765, 0.01143791, 0.00245098, 0.0059232 ,\n",
              "        0.        , 0.00714869, 0.00428922, 0.0067402 , 0.0063317 ,\n",
              "        0.01123366, 0.01960784, 0.02757353, 0.03002451, 0.03349673,\n",
              "        0.04003268, 0.04084967, 0.03982843, 0.04166667, 0.04370915,\n",
              "        0.04758987, 0.03594771, 0.02839052, 0.02410131, 0.01715686,\n",
              "        0.01531863, 0.01756536, 0.02696078, 0.02696078, 0.03819444,\n",
              "        0.02839052, 0.02369281, 0.02920752, 0.02328431, 0.01919935,\n",
              "        0.00653595, 0.00061275, 0.00796569, 0.01245915, 0.01981209,\n",
              "        0.01940359, 0.02246732, 0.03125   , 0.02348856, 0.0249183 ,\n",
              "        0.02144608, 0.04840686, 0.04575163, 0.03962418, 0.03921569,\n",
              "        0.04758987, 0.04513889, 0.04166667, 0.04125817, 0.05044935,\n",
              "        0.05555556, 0.05494281, 0.05412582, 0.0435049 , 0.04799837,\n",
              "        0.05147059, 0.05065359, 0.03431373, 0.04575163, 0.04187092,\n",
              "        0.04554739, 0.03941993, 0.02716503, 0.03125   , 0.05882353,\n",
              "        0.07148693, 0.08721405, 0.08986928, 0.10498366, 0.08905229,\n",
              "        0.10355392, 0.10375817, 0.12275327, 0.10906863, 0.09660948,\n",
              "        0.1064134 , 0.10457516, 0.11049837, 0.1127451 , 0.09803922,\n",
              "        0.09987745, 0.08925654, 0.0747549 , 0.08169935, 0.08925654,\n",
              "        0.09068627, 0.08129085, 0.08823529, 0.08455882, 0.07945261,\n",
              "        0.08374183, 0.07781863, 0.09824346, 0.09089052, 0.09007353,\n",
              "        0.09558824, 0.06862745, 0.06372549, 0.0494281 , 0.04799837,\n",
              "        0.04534314, 0.0443219 , 0.03941993, 0.0379902 , 0.04656863,\n",
              "        0.05085784, 0.07209967, 0.06535948, 0.07230392, 0.07802288,\n",
              "        0.07741013, 0.06086601, 0.06413399, 0.07046569, 0.05412582,\n",
              "        0.0498366 , 0.05167484, 0.05330882, 0.0435049 , 0.02634804,\n",
              "        0.02410131, 0.02961601, 0.01960784, 0.02961601, 0.04575163,\n",
              "        0.05923203, 0.06678922, 0.06229575, 0.06311275, 0.0629085 ,\n",
              "        0.06658497, 0.07434641, 0.06944444, 0.08088235, 0.07700163,\n",
              "        0.0684232 , 0.06781046, 0.0629085 , 0.0692402 , 0.0755719 ,\n",
              "        0.07781863, 0.08088235, 0.08843954, 0.09395425, 0.09599673,\n",
              "        0.08660131, 0.09027778, 0.08517157, 0.08374183, 0.07945261,\n",
              "        0.09109477, 0.09129902, 0.08803105, 0.09681373, 0.11417484,\n",
              "        0.10498366, 0.09987745, 0.08537582, 0.08047386, 0.06862745,\n",
              "        0.06576797, 0.06147876, 0.07169118, 0.07026144, 0.0747549 ,\n",
              "        0.06821895, 0.0692402 , 0.07066993, 0.06801471, 0.06678922,\n",
              "        0.07414216, 0.07169118, 0.08639706, 0.08312908, 0.06311275,\n",
              "        0.0629085 , 0.05167484, 0.03186275, 0.04003268, 0.03860294,\n",
              "        0.04105392, 0.03390523, 0.03125   , 0.02634804, 0.05861928,\n",
              "        0.06311275, 0.0620915 , 0.05535131, 0.08455882, 0.05514706,\n",
              "        0.06045752, 0.0557598 , 0.0439134 , 0.02920752, 0.02818627,\n",
              "        0.04718137, 0.06045752, 0.05861928, 0.06168301, 0.06699346,\n",
              "        0.07087418, 0.0755719 , 0.07700163, 0.10375817, 0.10314542,\n",
              "        0.10334967, 0.10089869, 0.10437092, 0.09803922, 0.09722222,\n",
              "        0.09783497, 0.09579248, 0.09109477, 0.09313725, 0.08558007,\n",
              "        0.09517974, 0.11172386, 0.12275327, 0.12806373, 0.1313317 ,\n",
              "        0.12479575, 0.11090686, 0.10743464, 0.11621732, 0.11683007,\n",
              "        0.11764706, 0.12888072, 0.12847222, 0.13337418, 0.14236111,\n",
              "        0.14093137, 0.13970588, 0.13827614, 0.13541667, 0.13010621,\n",
              "        0.12254902, 0.12479575, 0.13848039, 0.14011438, 0.13888889,\n",
              "        0.13541667, 0.14011438, 0.1380719 , 0.13071895, 0.13071895,\n",
              "        0.12867647, 0.11846405, 0.14644608, 0.14808007, 0.15910948,\n",
              "        0.15992647, 0.15788399, 0.16441993, 0.17892157, 0.17933007,\n",
              "        0.19260621, 0.20812908, 0.18974673, 0.18055556, 0.18239379,\n",
              "        0.17708333, 0.17810458, 0.18055556, 0.17810458, 0.17851307,\n",
              "        0.19607843, 0.18913399, 0.18954248, 0.19403595, 0.19444444,\n",
              "        0.20200163, 0.19771242, 0.19934641, 0.19873366, 0.1997549 ,\n",
              "        0.2128268 , 0.21568627, 0.20445261, 0.21772876, 0.21098856,\n",
              "        0.21425654, 0.19750817, 0.18811275, 0.17851307, 0.17381536,\n",
              "        0.16033497, 0.16564542, 0.17116013, 0.17422386, 0.18035131,\n",
              "        0.17401961, 0.16278595, 0.16973039, 0.17810458, 0.17034314,\n",
              "        0.16830065, 0.17279412, 0.17544935, 0.18382353, 0.19138072,\n",
              "        0.18913399, 0.19097222, 0.17238562, 0.16830065, 0.1693219 ,\n",
              "        0.17177288, 0.16156046, 0.14971405, 0.1503268 , 0.15196078,\n",
              "        0.14726307, 0.14501634, 0.14603758, 0.12479575, 0.13112745,\n",
              "        0.11397059, 0.1190768 , 0.12377451, 0.13562092, 0.12908497,\n",
              "        0.13459967, 0.12806373, 0.13031046, 0.12724673, 0.13521242,\n",
              "        0.14522059, 0.15257353, 0.14848856, 0.14338235, 0.14562908,\n",
              "        0.15236928, 0.15400327, 0.14971405, 0.1621732 , 0.16319444]))"
            ]
          },
          "execution_count": 17,
          "metadata": {},
          "output_type": "execute_result"
        }
      ],
      "source": [
        "X_test, y_test"
      ]
    },
    {
      "cell_type": "code",
      "execution_count": null,
      "id": "f1be6566",
      "metadata": {
        "id": "f1be6566"
      },
      "outputs": [],
      "source": [
        "#reshaping req for lstm \n",
        "X_train = X_train.reshape(X_train.shape[0],X_train.shape[1] , 1)\n",
        "X_test = X_test.reshape(X_test.shape[0],X_test.shape[1] , 1)"
      ]
    },
    {
      "cell_type": "code",
      "execution_count": null,
      "id": "387d2493",
      "metadata": {
        "id": "387d2493",
        "outputId": "511fe273-aa0c-4a09-e3bc-cf3c3637136d"
      },
      "outputs": [
        {
          "name": "stdout",
          "output_type": "stream",
          "text": [
            "Model: \"sequential\"\n",
            "_________________________________________________________________\n",
            "Layer (type)                 Output Shape              Param #   \n",
            "=================================================================\n",
            "lstm (LSTM)                  (None, 200, 50)           10400     \n",
            "_________________________________________________________________\n",
            "dropout (Dropout)            (None, 200, 50)           0         \n",
            "_________________________________________________________________\n",
            "lstm_1 (LSTM)                (None, 200, 50)           20200     \n",
            "_________________________________________________________________\n",
            "dropout_1 (Dropout)          (None, 200, 50)           0         \n",
            "_________________________________________________________________\n",
            "lstm_2 (LSTM)                (None, 50)                20200     \n",
            "_________________________________________________________________\n",
            "dropout_2 (Dropout)          (None, 50)                0         \n",
            "_________________________________________________________________\n",
            "dense (Dense)                (None, 1)                 51        \n",
            "=================================================================\n",
            "Total params: 50,851\n",
            "Trainable params: 50,851\n",
            "Non-trainable params: 0\n",
            "_________________________________________________________________\n",
            "Epoch 1/50\n",
            "39/39 [==============================] - 13s 327ms/step - loss: 0.0097 - val_loss: 0.0038\n",
            "Epoch 2/50\n",
            "39/39 [==============================] - 10s 267ms/step - loss: 0.0021 - val_loss: 0.0016\n",
            "Epoch 3/50\n",
            "39/39 [==============================] - 11s 278ms/step - loss: 0.0017 - val_loss: 0.0017\n",
            "Epoch 4/50\n",
            "39/39 [==============================] - 11s 274ms/step - loss: 0.0020 - val_loss: 0.0017\n",
            "Epoch 5/50\n",
            "39/39 [==============================] - 10s 262ms/step - loss: 0.0020 - val_loss: 0.0015\n",
            "Epoch 6/50\n",
            "39/39 [==============================] - 11s 276ms/step - loss: 0.0016 - val_loss: 0.0014\n",
            "Epoch 7/50\n",
            "39/39 [==============================] - 10s 258ms/step - loss: 0.0015 - val_loss: 0.0011\n",
            "Epoch 8/50\n",
            "39/39 [==============================] - 10s 260ms/step - loss: 0.0016 - val_loss: 0.0012\n",
            "Epoch 9/50\n",
            "39/39 [==============================] - 10s 260ms/step - loss: 0.0016 - val_loss: 0.0012\n",
            "Epoch 10/50\n",
            "39/39 [==============================] - 10s 261ms/step - loss: 0.0014 - val_loss: 0.0011\n",
            "Epoch 11/50\n",
            "39/39 [==============================] - 10s 266ms/step - loss: 0.0014 - val_loss: 0.0010\n",
            "Epoch 12/50\n",
            "39/39 [==============================] - 10s 264ms/step - loss: 0.0014 - val_loss: 6.4966e-04\n",
            "Epoch 13/50\n",
            "39/39 [==============================] - 10s 260ms/step - loss: 0.0012 - val_loss: 8.5960e-04\n",
            "Epoch 14/50\n",
            "39/39 [==============================] - 12s 312ms/step - loss: 0.0013 - val_loss: 8.6132e-04\n",
            "Epoch 15/50\n",
            "39/39 [==============================] - 10s 262ms/step - loss: 0.0011 - val_loss: 5.6043e-04\n",
            "Epoch 16/50\n",
            "39/39 [==============================] - 10s 261ms/step - loss: 0.0010 - val_loss: 7.4211e-04\n",
            "Epoch 17/50\n",
            "39/39 [==============================] - 10s 260ms/step - loss: 0.0011 - val_loss: 5.2777e-04\n",
            "Epoch 18/50\n",
            "39/39 [==============================] - 10s 260ms/step - loss: 0.0014 - val_loss: 5.4012e-04\n",
            "Epoch 19/50\n",
            "39/39 [==============================] - 10s 258ms/step - loss: 9.9380e-04 - val_loss: 4.2292e-04\n",
            "Epoch 20/50\n",
            "39/39 [==============================] - 10s 259ms/step - loss: 0.0011 - val_loss: 5.4920e-04\n",
            "Epoch 21/50\n",
            "39/39 [==============================] - 10s 261ms/step - loss: 0.0012 - val_loss: 5.6462e-04\n",
            "Epoch 22/50\n",
            "39/39 [==============================] - 12s 309ms/step - loss: 0.0010 - val_loss: 7.1047e-04\n",
            "Epoch 23/50\n",
            "39/39 [==============================] - 11s 272ms/step - loss: 9.8106e-04 - val_loss: 4.8242e-04\n",
            "Epoch 24/50\n",
            "39/39 [==============================] - 10s 258ms/step - loss: 9.2022e-04 - val_loss: 8.6343e-04\n",
            "Epoch 25/50\n",
            "39/39 [==============================] - 10s 261ms/step - loss: 9.4802e-04 - val_loss: 5.4135e-04\n",
            "Epoch 26/50\n",
            "39/39 [==============================] - 10s 260ms/step - loss: 9.1064e-04 - val_loss: 5.4640e-04\n",
            "Epoch 27/50\n",
            "39/39 [==============================] - 10s 263ms/step - loss: 9.6296e-04 - val_loss: 3.8965e-04\n",
            "Epoch 28/50\n",
            "39/39 [==============================] - 10s 263ms/step - loss: 8.8584e-04 - val_loss: 6.9710e-04\n",
            "Epoch 29/50\n",
            "39/39 [==============================] - 10s 259ms/step - loss: 7.9263e-04 - val_loss: 7.1164e-04\n",
            "Epoch 30/50\n",
            "39/39 [==============================] - 10s 258ms/step - loss: 8.5554e-04 - val_loss: 3.3683e-04\n",
            "Epoch 31/50\n",
            "39/39 [==============================] - 10s 258ms/step - loss: 9.0658e-04 - val_loss: 3.5704e-04\n",
            "Epoch 32/50\n",
            "39/39 [==============================] - 10s 260ms/step - loss: 7.4920e-04 - val_loss: 4.6062e-04\n",
            "Epoch 33/50\n",
            "39/39 [==============================] - 10s 260ms/step - loss: 8.3448e-04 - val_loss: 4.5820e-04\n",
            "Epoch 34/50\n",
            "39/39 [==============================] - 10s 257ms/step - loss: 8.0870e-04 - val_loss: 3.0040e-04\n",
            "Epoch 35/50\n",
            "39/39 [==============================] - 10s 258ms/step - loss: 7.4663e-04 - val_loss: 5.0141e-04\n",
            "Epoch 36/50\n",
            "39/39 [==============================] - 10s 259ms/step - loss: 6.2302e-04 - val_loss: 5.4351e-04\n",
            "Epoch 37/50\n",
            "39/39 [==============================] - 10s 259ms/step - loss: 7.1903e-04 - val_loss: 5.2503e-04\n",
            "Epoch 38/50\n",
            "39/39 [==============================] - 10s 259ms/step - loss: 6.6015e-04 - val_loss: 3.2244e-04\n",
            "Epoch 39/50\n",
            "39/39 [==============================] - 10s 260ms/step - loss: 6.5622e-04 - val_loss: 2.9455e-04\n",
            "Epoch 40/50\n",
            "39/39 [==============================] - 10s 263ms/step - loss: 6.8833e-04 - val_loss: 4.0112e-04\n",
            "Epoch 41/50\n",
            "39/39 [==============================] - 10s 260ms/step - loss: 6.6428e-04 - val_loss: 3.5210e-04\n",
            "Epoch 42/50\n",
            "39/39 [==============================] - 11s 275ms/step - loss: 6.6371e-04 - val_loss: 2.6383e-04\n",
            "Epoch 43/50\n",
            "39/39 [==============================] - 11s 272ms/step - loss: 7.0201e-04 - val_loss: 3.3285e-04\n",
            "Epoch 44/50\n",
            "39/39 [==============================] - 11s 273ms/step - loss: 6.3604e-04 - val_loss: 3.7799e-04\n",
            "Epoch 45/50\n",
            "39/39 [==============================] - 11s 278ms/step - loss: 6.3766e-04 - val_loss: 4.6832e-04\n",
            "Epoch 46/50\n",
            "39/39 [==============================] - 10s 266ms/step - loss: 6.9394e-04 - val_loss: 4.3393e-04\n",
            "Epoch 47/50\n",
            "39/39 [==============================] - 11s 273ms/step - loss: 6.7605e-04 - val_loss: 3.0416e-04\n",
            "Epoch 48/50\n",
            "39/39 [==============================] - 11s 280ms/step - loss: 5.6395e-04 - val_loss: 2.8871e-04\n",
            "Epoch 49/50\n",
            "39/39 [==============================] - 11s 270ms/step - loss: 5.3587e-04 - val_loss: 2.4590e-04\n",
            "Epoch 50/50\n",
            "39/39 [==============================] - 11s 283ms/step - loss: 6.4393e-04 - val_loss: 3.7333e-04\n"
          ]
        },
        {
          "data": {
            "text/plain": [
              "<tensorflow.python.keras.callbacks.History at 0x18787453850>"
            ]
          },
          "execution_count": 19,
          "metadata": {},
          "output_type": "execute_result"
        }
      ],
      "source": [
        "model=Sequential()\n",
        "model.add(LSTM(50,return_sequences=True,input_shape=(timestep,1)))\n",
        "model.add(Dropout(0.2))\n",
        "\n",
        "model.add(LSTM(50,return_sequences=True))\n",
        "model.add(Dropout(0.2))\n",
        "\n",
        "model.add(LSTM(50))\n",
        "model.add(Dropout(0.2))\n",
        "\n",
        "model.add(Dense(1))\n",
        "model.compile(loss='mean_squared_error',optimizer='adam')\n",
        "model.summary()\n",
        "model.fit(X_train, y_train, validation_data = (X_test, y_test),epochs = 50,batch_size = 32, verbose=1)"
      ]
    },
    {
      "cell_type": "code",
      "execution_count": null,
      "id": "ba615d5d",
      "metadata": {
        "id": "ba615d5d"
      },
      "outputs": [],
      "source": [
        "#------------DOING PREDICTIONS --------------\n",
        "\n",
        "train_predict=model.predict(X_train)       # output for train dataset\n",
        "test_predict=model.predict(X_test)        # output for test dataset\n",
        "\n",
        "#----------------- BACK TO ORIGINAL DATA ------------------\n",
        "train_predict=scaler.inverse_transform(train_predict)\n",
        "test_predict=scaler.inverse_transform(test_predict)"
      ]
    },
    {
      "cell_type": "code",
      "execution_count": null,
      "id": "b135a8d7",
      "metadata": {
        "id": "b135a8d7",
        "outputId": "b1cfeebc-c01c-4832-a12e-bf9a7fee3e94"
      },
      "outputs": [
        {
          "data": {
            "text/plain": [
              "array([[287.94904],\n",
              "       [288.26505],\n",
              "       [285.3647 ],\n",
              "       ...,\n",
              "       [163.93074],\n",
              "       [164.79298],\n",
              "       [164.79874]], dtype=float32)"
            ]
          },
          "execution_count": 21,
          "metadata": {},
          "output_type": "execute_result"
        }
      ],
      "source": [
        "train_predict"
      ]
    },
    {
      "cell_type": "code",
      "execution_count": null,
      "id": "6b7fa54b",
      "metadata": {
        "id": "6b7fa54b",
        "outputId": "c46eb346-227e-464c-ee03-491da792ae67"
      },
      "outputs": [
        {
          "data": {
            "text/plain": [
              "array([[119.883606],\n",
              "       [120.568016],\n",
              "       [120.63809 ],\n",
              "       [119.95523 ],\n",
              "       [119.08721 ],\n",
              "       [118.89879 ],\n",
              "       [119.44549 ],\n",
              "       [120.755066],\n",
              "       [122.673134],\n",
              "       [124.09477 ],\n",
              "       [123.76079 ],\n",
              "       [122.81668 ],\n",
              "       [121.936806],\n",
              "       [121.06226 ],\n",
              "       [120.71687 ],\n",
              "       [120.7212  ],\n",
              "       [121.10896 ],\n",
              "       [121.725006],\n",
              "       [122.34614 ],\n",
              "       [122.910225],\n",
              "       [123.045166],\n",
              "       [123.27837 ],\n",
              "       [123.0529  ],\n",
              "       [121.87149 ],\n",
              "       [120.39813 ],\n",
              "       [119.56136 ],\n",
              "       [118.34787 ],\n",
              "       [116.647446],\n",
              "       [114.65698 ],\n",
              "       [111.65012 ],\n",
              "       [108.05415 ],\n",
              "       [104.43697 ],\n",
              "       [101.19653 ],\n",
              "       [ 98.5767  ],\n",
              "       [ 96.827065],\n",
              "       [ 96.08965 ],\n",
              "       [ 96.06732 ],\n",
              "       [ 96.91213 ],\n",
              "       [ 98.44051 ],\n",
              "       [ 99.68749 ],\n",
              "       [100.15762 ],\n",
              "       [ 99.90763 ],\n",
              "       [ 99.33867 ],\n",
              "       [ 98.63771 ],\n",
              "       [ 97.99824 ],\n",
              "       [ 97.535904],\n",
              "       [ 97.22378 ],\n",
              "       [ 97.289276],\n",
              "       [ 97.567154],\n",
              "       [ 97.490135],\n",
              "       [ 96.91607 ],\n",
              "       [ 96.039474],\n",
              "       [ 94.8303  ],\n",
              "       [ 93.58829 ],\n",
              "       [ 92.63767 ],\n",
              "       [ 92.089615],\n",
              "       [ 92.03336 ],\n",
              "       [ 91.95373 ],\n",
              "       [ 91.565414],\n",
              "       [ 90.875854],\n",
              "       [ 90.28003 ],\n",
              "       [ 90.31374 ],\n",
              "       [ 90.674774],\n",
              "       [ 91.252975],\n",
              "       [ 91.73787 ],\n",
              "       [ 92.244545],\n",
              "       [ 92.749115],\n",
              "       [ 93.30284 ],\n",
              "       [ 93.80202 ],\n",
              "       [ 94.301704],\n",
              "       [ 94.36503 ],\n",
              "       [ 93.515434],\n",
              "       [ 92.02965 ],\n",
              "       [ 90.3418  ],\n",
              "       [ 88.60514 ],\n",
              "       [ 87.1693  ],\n",
              "       [ 86.05353 ],\n",
              "       [ 85.47522 ],\n",
              "       [ 85.32417 ],\n",
              "       [ 85.51179 ],\n",
              "       [ 85.87476 ],\n",
              "       [ 86.3991  ],\n",
              "       [ 87.19665 ],\n",
              "       [ 88.33666 ],\n",
              "       [ 89.65929 ],\n",
              "       [ 90.988686],\n",
              "       [ 92.28602 ],\n",
              "       [ 93.41441 ],\n",
              "       [ 94.21835 ],\n",
              "       [ 94.70575 ],\n",
              "       [ 94.9759  ],\n",
              "       [ 95.1982  ],\n",
              "       [ 95.08771 ],\n",
              "       [ 94.46882 ],\n",
              "       [ 93.4151  ],\n",
              "       [ 92.03272 ],\n",
              "       [ 90.57635 ],\n",
              "       [ 89.38019 ],\n",
              "       [ 88.85458 ],\n",
              "       [ 88.971886],\n",
              "       [ 89.80442 ],\n",
              "       [ 90.78402 ],\n",
              "       [ 91.447266],\n",
              "       [ 91.8383  ],\n",
              "       [ 91.86358 ],\n",
              "       [ 91.501884],\n",
              "       [ 90.57718 ],\n",
              "       [ 89.16964 ],\n",
              "       [ 87.820564],\n",
              "       [ 86.95223 ],\n",
              "       [ 86.82932 ],\n",
              "       [ 87.2913  ],\n",
              "       [ 88.123665],\n",
              "       [ 89.28313 ],\n",
              "       [ 90.308586],\n",
              "       [ 91.02013 ],\n",
              "       [ 91.29323 ],\n",
              "       [ 91.93257 ],\n",
              "       [ 92.91899 ],\n",
              "       [ 93.83093 ],\n",
              "       [ 94.4368  ],\n",
              "       [ 94.92445 ],\n",
              "       [ 95.26462 ],\n",
              "       [ 95.355606],\n",
              "       [ 95.223854],\n",
              "       [ 95.21736 ],\n",
              "       [ 95.54137 ],\n",
              "       [ 96.08942 ],\n",
              "       [ 96.66378 ],\n",
              "       [ 96.83562 ],\n",
              "       [ 96.715576],\n",
              "       [ 96.55141 ],\n",
              "       [ 96.43152 ],\n",
              "       [ 95.93332 ],\n",
              "       [ 95.42565 ],\n",
              "       [ 94.98627 ],\n",
              "       [ 94.76777 ],\n",
              "       [ 94.60442 ],\n",
              "       [ 94.11443 ],\n",
              "       [ 93.46335 ],\n",
              "       [ 93.5911  ],\n",
              "       [ 94.87212 ],\n",
              "       [ 97.3225  ],\n",
              "       [100.334694],\n",
              "       [103.59534 ],\n",
              "       [106.067   ],\n",
              "       [107.812614],\n",
              "       [108.88725 ],\n",
              "       [109.9386  ],\n",
              "       [110.62662 ],\n",
              "       [110.51395 ],\n",
              "       [110.035126],\n",
              "       [109.44933 ],\n",
              "       [109.10821 ],\n",
              "       [109.139854],\n",
              "       [109.03166 ],\n",
              "       [108.75148 ],\n",
              "       [108.094086],\n",
              "       [106.80991 ],\n",
              "       [105.40213 ],\n",
              "       [104.45785 ],\n",
              "       [104.15779 ],\n",
              "       [104.11382 ],\n",
              "       [104.329475],\n",
              "       [104.59957 ],\n",
              "       [104.67364 ],\n",
              "       [104.66102 ],\n",
              "       [104.46385 ],\n",
              "       [104.714935],\n",
              "       [105.21609 ],\n",
              "       [105.73042 ],\n",
              "       [106.27473 ],\n",
              "       [106.013725],\n",
              "       [104.86682 ],\n",
              "       [102.86068 ],\n",
              "       [100.49667 ],\n",
              "       [ 98.25453 ],\n",
              "       [ 96.47324 ],\n",
              "       [ 95.17858 ],\n",
              "       [ 94.332344],\n",
              "       [ 94.11423 ],\n",
              "       [ 94.52424 ],\n",
              "       [ 95.89757 ],\n",
              "       [ 97.67346 ],\n",
              "       [ 99.521385],\n",
              "       [101.25661 ],\n",
              "       [102.63048 ],\n",
              "       [103.050446],\n",
              "       [102.69361 ],\n",
              "       [102.08912 ],\n",
              "       [101.08704 ],\n",
              "       [ 99.76443 ],\n",
              "       [ 98.456085],\n",
              "       [ 97.45685 ],\n",
              "       [ 96.60143 ],\n",
              "       [ 95.425934],\n",
              "       [ 93.98107 ],\n",
              "       [ 92.70192 ],\n",
              "       [ 91.55531 ],\n",
              "       [ 90.89028 ],\n",
              "       [ 91.177895],\n",
              "       [ 92.59126 ],\n",
              "       [ 94.85545 ],\n",
              "       [ 97.205605],\n",
              "       [ 99.11766 ],\n",
              "       [100.346   ],\n",
              "       [100.998795],\n",
              "       [101.43293 ],\n",
              "       [101.62749 ],\n",
              "       [101.93792 ],\n",
              "       [102.2763  ],\n",
              "       [102.313736],\n",
              "       [102.02693 ],\n",
              "       [101.41772 ],\n",
              "       [100.84525 ],\n",
              "       [100.653046],\n",
              "       [100.90353 ],\n",
              "       [101.52287 ],\n",
              "       [102.50597 ],\n",
              "       [103.770454],\n",
              "       [105.10301 ],\n",
              "       [105.98676 ],\n",
              "       [106.41692 ],\n",
              "       [106.35201 ],\n",
              "       [105.91382 ],\n",
              "       [105.19628 ],\n",
              "       [104.73471 ],\n",
              "       [104.664894],\n",
              "       [104.80793 ],\n",
              "       [105.27047 ],\n",
              "       [106.42163 ],\n",
              "       [107.73717 ],\n",
              "       [108.69256 ],\n",
              "       [108.72731 ],\n",
              "       [107.85384 ],\n",
              "       [106.16627 ],\n",
              "       [104.09581 ],\n",
              "       [102.03153 ],\n",
              "       [100.61657 ],\n",
              "       [ 99.96019 ],\n",
              "       [100.046326],\n",
              "       [100.435646],\n",
              "       [100.88211 ],\n",
              "       [101.289474],\n",
              "       [101.52594 ],\n",
              "       [101.54929 ],\n",
              "       [101.621414],\n",
              "       [101.726234],\n",
              "       [102.241165],\n",
              "       [102.98491 ],\n",
              "       [103.16357 ],\n",
              "       [102.70013 ],\n",
              "       [101.53818 ],\n",
              "       [ 99.49303 ],\n",
              "       [ 97.27081 ],\n",
              "       [ 95.36995 ],\n",
              "       [ 94.120346],\n",
              "       [ 93.358864],\n",
              "       [ 92.89199 ],\n",
              "       [ 92.49317 ],\n",
              "       [ 93.00257 ],\n",
              "       [ 94.45944 ],\n",
              "       [ 96.354034],\n",
              "       [ 97.96594 ],\n",
              "       [ 99.79332 ],\n",
              "       [100.87385 ],\n",
              "       [101.17159 ],\n",
              "       [100.772545],\n",
              "       [ 99.64959 ],\n",
              "       [ 97.76157 ],\n",
              "       [ 95.54245 ],\n",
              "       [ 94.00488 ],\n",
              "       [ 93.775505],\n",
              "       [ 94.58708 ],\n",
              "       [ 95.99681 ],\n",
              "       [ 97.656586],\n",
              "       [ 99.29546 ],\n",
              "       [100.778465],\n",
              "       [101.979675],\n",
              "       [103.56457 ],\n",
              "       [105.390434],\n",
              "       [107.09741 ],\n",
              "       [108.3263  ],\n",
              "       [109.07406 ],\n",
              "       [109.22469 ],\n",
              "       [108.89947 ],\n",
              "       [108.35015 ],\n",
              "       [107.73374 ],\n",
              "       [107.06013 ],\n",
              "       [106.49367 ],\n",
              "       [105.907974],\n",
              "       [105.620804],\n",
              "       [106.14255 ],\n",
              "       [107.614525],\n",
              "       [109.73243 ],\n",
              "       [112.0184  ],\n",
              "       [113.796844],\n",
              "       [114.4174  ],\n",
              "       [113.91596 ],\n",
              "       [113.00695 ],\n",
              "       [112.16626 ],\n",
              "       [111.63033 ],\n",
              "       [111.75127 ],\n",
              "       [112.38231 ],\n",
              "       [113.37015 ],\n",
              "       [114.69189 ],\n",
              "       [116.02227 ],\n",
              "       [117.06037 ],\n",
              "       [117.64821 ],\n",
              "       [117.73861 ],\n",
              "       [117.32317 ],\n",
              "       [116.4063  ],\n",
              "       [115.34311 ],\n",
              "       [114.81985 ],\n",
              "       [114.967896],\n",
              "       [115.54028 ],\n",
              "       [116.1472  ],\n",
              "       [116.73032 ],\n",
              "       [117.154434],\n",
              "       [117.16961 ],\n",
              "       [116.84555 ],\n",
              "       [116.303764],\n",
              "       [115.42688 ],\n",
              "       [115.2197  ],\n",
              "       [115.82645 ],\n",
              "       [117.25494 ],\n",
              "       [119.06604 ],\n",
              "       [120.704155],\n",
              "       [122.05353 ],\n",
              "       [123.44342 ],\n",
              "       [124.782715],\n",
              "       [126.2824  ],\n",
              "       [128.2178  ],\n",
              "       [129.68373 ],\n",
              "       [130.10509 ],\n",
              "       [129.68857 ],\n",
              "       [128.68245 ],\n",
              "       [127.52623 ],\n",
              "       [126.62228 ],\n",
              "       [126.0437  ],\n",
              "       [125.790955],\n",
              "       [126.32417 ],\n",
              "       [127.23137 ],\n",
              "       [128.16403 ],\n",
              "       [129.03732 ],\n",
              "       [129.7529  ],\n",
              "       [130.47905 ],\n",
              "       [131.03313 ],\n",
              "       [131.3992  ],\n",
              "       [131.57057 ],\n",
              "       [131.62125 ],\n",
              "       [132.00844 ],\n",
              "       [132.77904 ],\n",
              "       [133.3584  ],\n",
              "       [133.9852  ],\n",
              "       [134.41945 ],\n",
              "       [134.70602 ],\n",
              "       [134.35622 ],\n",
              "       [133.22229 ],\n",
              "       [131.40616 ],\n",
              "       [129.28119 ],\n",
              "       [126.942116],\n",
              "       [124.95827 ],\n",
              "       [123.79755 ],\n",
              "       [123.55898 ],\n",
              "       [124.17471 ],\n",
              "       [125.06577 ],\n",
              "       [125.52188 ],\n",
              "       [125.64818 ],\n",
              "       [125.83002 ],\n",
              "       [125.89849 ],\n",
              "       [125.76697 ],\n",
              "       [125.62619 ],\n",
              "       [125.62612 ],\n",
              "       [126.006325],\n",
              "       [126.876205],\n",
              "       [127.907005],\n",
              "       [128.8623  ],\n",
              "       [129.00632 ],\n",
              "       [128.27335 ],\n",
              "       [127.08013 ],\n",
              "       [125.932785],\n",
              "       [124.799904],\n",
              "       [123.46002 ],\n",
              "       [122.11538 ],\n",
              "       [121.05266 ],\n",
              "       [120.2601  ],\n",
              "       [119.680855],\n",
              "       [119.334885],\n",
              "       [118.57462 ],\n",
              "       [117.642   ],\n",
              "       [116.29484 ],\n",
              "       [114.92377 ],\n",
              "       [113.96112 ],\n",
              "       [113.85677 ],\n",
              "       [114.27099 ],\n",
              "       [115.02981 ],\n",
              "       [115.67725 ],\n",
              "       [116.100266],\n",
              "       [116.19929 ],\n",
              "       [116.272026],\n",
              "       [116.692566],\n",
              "       [117.60528 ],\n",
              "       [118.634636],\n",
              "       [119.33793 ],\n",
              "       [119.671005],\n",
              "       [119.90286 ],\n",
              "       [120.160164],\n",
              "       [120.30353 ],\n",
              "       [120.67782 ]], dtype=float32)"
            ]
          },
          "execution_count": 22,
          "metadata": {},
          "output_type": "execute_result"
        }
      ],
      "source": [
        "test_predict"
      ]
    },
    {
      "cell_type": "code",
      "execution_count": null,
      "id": "b401ecc4",
      "metadata": {
        "id": "b401ecc4",
        "outputId": "b42d16fe-0190-4b08-97e3-1a6dcd726292"
      },
      "outputs": [
        {
          "data": {
            "text/plain": [
              "151.8857327346195"
            ]
          },
          "execution_count": 23,
          "metadata": {},
          "output_type": "execute_result"
        }
      ],
      "source": [
        "math.sqrt(mean_squared_error(y_train,train_predict))"
      ]
    },
    {
      "cell_type": "code",
      "execution_count": null,
      "id": "05409e1b",
      "metadata": {
        "id": "05409e1b",
        "outputId": "5f50dc99-991a-46fd-97d3-e1feb7533700"
      },
      "outputs": [
        {
          "data": {
            "text/plain": [
              "107.28963840046295"
            ]
          },
          "execution_count": 24,
          "metadata": {},
          "output_type": "execute_result"
        }
      ],
      "source": [
        "math.sqrt(mean_squared_error(y_test,test_predict))"
      ]
    },
    {
      "cell_type": "code",
      "execution_count": null,
      "id": "6a6cdfdf",
      "metadata": {
        "id": "6a6cdfdf"
      },
      "outputs": [],
      "source": [
        "t = timestep\n",
        "\n",
        "p1 = np.empty_like(df1)       #train-pred-plot\n",
        "p1[:,:] =np.nan\n",
        "p1[t : len(train_predict)+t , : ] =  train_predict"
      ]
    },
    {
      "cell_type": "code",
      "execution_count": null,
      "id": "55f11577",
      "metadata": {
        "id": "55f11577"
      },
      "outputs": [],
      "source": [
        "p2 = np.empty_like(df1)       #test-pred-plot\n",
        "p2[:,:] =np.nan\n",
        "p2[ len(train_predict)+ t*2 + 1 : len(df1) -1 , : ] =  test_predict"
      ]
    },
    {
      "cell_type": "code",
      "execution_count": null,
      "id": "3dddc3d1",
      "metadata": {
        "id": "3dddc3d1",
        "outputId": "520dd20a-2cf8-4f68-d79c-e890a8f9e586"
      },
      "outputs": [
        {
          "data": {
            "image/png": "[encoded data removed]",
            "text/plain": [
              "<Figure size 1080x504 with 1 Axes>"
            ]
          },
          "metadata": {
            "needs_background": "light"
          },
          "output_type": "display_data"
        }
      ],
      "source": [
        "from matplotlib.pyplot import figure\n",
        "plt.plot(scaler.inverse_transform(df1) , color = 'red', label = 'Real Stock Price')\n",
        "plt.plot(p1 , color = 'blue', label = 'Predicted Stock Price 1 - training ')\n",
        "plt.plot(p2 , color = 'green', label = 'Predicted Stock Price 2 - testing ')\n",
        "\n",
        "plt.rcParams['figure.figsize'] = [15,7]\n",
        "plt.legend()\n",
        "plt.show()"
      ]
    },
    {
      "cell_type": "code",
      "execution_count": null,
      "id": "15608167",
      "metadata": {
        "id": "15608167"
      },
      "outputs": [],
      "source": [
        ""
      ]
    }
  ],
  "metadata": {
    "kernelspec": {
      "display_name": "Python 3",
      "language": "python",
      "name": "python3"
    },
    "language_info": {
      "codemirror_mode": {
        "name": "ipython",
        "version": 3
      },
      "file_extension": ".py",
      "mimetype": "text/x-python",
      "name": "python",
      "nbconvert_exporter": "python",
      "pygments_lexer": "ipython3",
      "version": "3.8.10"
    },
    "colab": {
      "name": "Task-2_Stock Market Prediction And Forecasting Using Stacked LSTM.ipynb",
      "provenance": [],
      "include_colab_link": true
    }
  },
  "nbformat": 4,
  "nbformat_minor": 5
}